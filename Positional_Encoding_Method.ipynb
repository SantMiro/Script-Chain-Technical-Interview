{
 "cells": [
  {
   "cell_type": "code",
   "execution_count": 7,
   "id": "5cf9579d-9b19-4be5-825d-62a6bc86f1c6",
   "metadata": {},
   "outputs": [],
   "source": [
    "import torch\n",
    "import torch.nn as nn\n",
    "import torch.optim as optim\n",
    "import numpy as np"
   ]
  },
  {
   "cell_type": "code",
   "execution_count": 91,
   "id": "b4e1a9e8-010c-4995-ba8f-e4bed40e927a",
   "metadata": {},
   "outputs": [],
   "source": [
    "class PositionalEncoding(nn.Module):\n",
    "    '''Positional Encoding'''\n",
    "    def __init__(self, seq_len, d_model):\n",
    "        super().__init__()\n",
    "        self.positional_enconding = nn.Parameter(torch.randn(1, seq_len, d_model))\n",
    "\n",
    "    def forward(self, x):\n",
    "        return x + self.positional_enconding\n"
   ]
  },
  {
   "cell_type": "markdown",
   "id": "961becd0-1c0d-4630-8cc7-24d375652d22",
   "metadata": {},
   "source": [
    "## __init__ Method\n",
    "self.positional_enconding is defined as a learnable parameter with the shape (1, seq_len, d_model). This tensor is initialized with random values using torch.randn\n",
    "\n",
    "Shape: (1, seq_len, d_model)\n",
    "1: The batch dimension is set to 1 because the positional encoding is intended to be broadcasted across different batches.\n",
    "seq_len: The length of the sequence. Each position in the sequence will have a unique encoding.\n",
    "d_model: The dimensionality of the model or embedding size.\n",
    "\n",
    "## forward Method\n",
    "Input Tensor x:\n",
    "\n",
    "The input tensor x should have the shape (batch_size, seq_len, d_model). It represents the input data where batch_size is the number of sequences in a batch, seq_len is the length of each sequence, and d_model is the dimensionality of each element in the sequence.\n",
    "Addition of Positional Encoding:\n",
    "\n",
    "The operation x + self.positional_enconding adds the positional encoding to the input tensor x.\n",
    "Broadcasting: The shape of self.positional_enconding is (1, seq_len, d_model), so it will be broadcasted across the batch dimension of x (which is (batch_size, seq_len, d_model)). This means that the same positional encoding will be added to each sequence in the batch.\n",
    "\n",
    "Purpose: The PositionalEncoding class is designed to add positional information to the input sequences. This helps the model to distinguish between different positions in the sequence, which is crucial for sequence models like Transformers that do not inherently capture the order of tokens.\n",
    "\n",
    "Mechanism: The positional encoding is initialized as a learnable parameter and added to the input tensor x. The encoding tensor has the shape (1, seq_len, d_model) and is broadcasted to match the batch size of x.\n",
    "\n",
    "Effect: By adding positional encodings to the input, the model gains information about the position of each token in the sequence, which improves its ability to learn and represent sequential relationships."
   ]
  },
  {
   "cell_type": "code",
   "execution_count": 95,
   "id": "3c533da7-1181-4d0b-93b3-dd83b854f07a",
   "metadata": {},
   "outputs": [],
   "source": [
    "class SelfAttentionModel(nn.Module):\n",
    "    def __init__(self, seq_len, d_model, n_heads):\n",
    "        super().__init__()\n",
    "        self.positional_encoding = PositionalEncoding(seq_len, d_model)\n",
    "        self.attention = nn.MultiheadAttention(embed_dim = d_model, num_heads = n_heads)\n",
    "        self.fc = nn.Linear(d_model,1)\n",
    "\n",
    "    def forward(self, x):\n",
    "        x = self.positional_encoding(x)\n",
    "        x = x.transpose(0,1)\n",
    "        attn_output, _ = self.attention(x,x,x)\n",
    "        attn_output = attn_output.mean(dim = 0)\n",
    "        output = self.fc(attn_output)\n",
    "        return output"
   ]
  },
  {
   "cell_type": "markdown",
   "id": "a8391186-f37a-40c1-8612-ac780e8aa004",
   "metadata": {},
   "source": [
    "Self-Attention Layer:\n",
    "\n",
    "python\n",
    "Copy code\n",
    "self.attention = nn.MultiheadAttention(embed_dim=d_model, num_heads=n_heads)\n",
    "Initializes a multi-head self-attention layer. This layer computes the attention scores between different positions in the sequence and combines information from multiple attention heads.\n",
    "Parameters:\n",
    "embed_dim: Dimensionality of the embeddings (same as d_model).\n",
    "num_heads: Number of attention heads to use.\n",
    "\n",
    "Linear Layer:\n",
    "\n",
    "python\n",
    "Copy code\n",
    "self.fc = nn.Linear(d_model, 1)\n",
    "Defines a fully connected (linear) layer that maps the output of the self-attention layer to a single output value.\n",
    "Parameters:\n",
    "d_model: Input dimension (same as the output dimension of the self-attention layer).\n",
    "1: Output dimension (single value per sequence).\n",
    "forward Method\n",
    "Applying Positional Encoding:\n",
    "\n",
    "python\n",
    "Copy code\n",
    "x = self.positional_encoding(x)\n",
    "Adds positional encoding to the input tensor x. This helps the model incorporate the position of each token in the sequence.\n",
    "\n",
    "Applying Self-Attention:\n",
    "\n",
    "python\n",
    "Copy code\n",
    "attn_output, _ = self.attention(x, x, x)\n",
    "Applies the self-attention layer to the input tensor x.\n",
    "Parameters:\n",
    "The three arguments (x, x, x) correspond to query, key, and value, respectively. In self-attention, these are usually the same.\n",
    "Output:\n",
    "attn_output: The output of the self-attention layer, containing attended information from all positions in the sequence.\n",
    "\n",
    "Pooling and Linear Transformation:\n",
    "\n",
    "python\n",
    "Copy code\n",
    "attn_output = attn_output.mean(dim=0)\n",
    "output = self.fc(attn_output)\n",
    "Pooling: Takes the mean of the self-attention output across the sequence length dimension (dim=0). This reduces the output to a single representation per batch.\n",
    "Linear Transformation: Passes the pooled output through a fully connected layer (self.fc) to produce the final output. This maps the representation to a single value per sequence.\n",
    "\n",
    "The SelfAttentionModel combines positional encoding and self-attention to process sequence data. It adds positional information to the input, applies multi-head self-attention to capture dependencies between different positions in the sequence, and then uses a linear layer to produce a single output value per sequence. This model is suitable for tasks where understanding the sequence and relationships between tokens is important."
   ]
  },
  {
   "cell_type": "code",
   "execution_count": 93,
   "id": "7cf13b35-8add-49ec-9039-71c2e6bbefa1",
   "metadata": {},
   "outputs": [],
   "source": [
    "def create_dummy_data(batch_size, seq_len, d_model):\n",
    "    n = 0.01\n",
    "    X = torch.randn(batch_size, seq_len, d_model) * n\n",
    "    y = torch.randn(batch_size, 1)* n\n",
    "    return X, y"
   ]
  },
  {
   "cell_type": "markdown",
   "id": "e5432768-ad2d-4352-ba4c-2ef497c2e084",
   "metadata": {},
   "source": [
    "Dummy Data Generator"
   ]
  },
  {
   "cell_type": "code",
   "execution_count": 65,
   "id": "e7a53093-9366-4402-b69c-dd5ebdc0558a",
   "metadata": {},
   "outputs": [],
   "source": [
    "seq_len = 10\n",
    "d_model = 16\n",
    "batch_size = 32\n",
    "n_heads = 4"
   ]
  },
  {
   "cell_type": "code",
   "execution_count": 96,
   "id": "6aab33df-ee28-4da9-8307-022b97eed427",
   "metadata": {},
   "outputs": [
    {
     "name": "stdout",
     "output_type": "stream",
     "text": [
      "Epoch 20, Loss: 0.0093\n",
      "Epoch 40, Loss: 0.0045\n",
      "Epoch 60, Loss: 0.0020\n",
      "Epoch 80, Loss: 0.0007\n",
      "Epoch 100, Loss: 0.0002\n",
      "Epoch 120, Loss: 0.0001\n",
      "Epoch 140, Loss: 0.0001\n",
      "Epoch 160, Loss: 0.0001\n",
      "Epoch 180, Loss: 0.0001\n",
      "Epoch 200, Loss: 0.0001\n"
     ]
    }
   ],
   "source": [
    "model = SelfAttentionModel(seq_len=seq_len, d_model=d_model, n_heads=n_heads)\n",
    "loss_index = nn.MSELoss()\n",
    "optimizer = optim.Adam(model.parameters(), lr = 0.0001)\n",
    "\n",
    "loss_item = []\n",
    "num_epochs = 200\n",
    "for epoch in range(num_epochs):\n",
    "    X, y = create_dummy_data(batch_size, seq_len, d_model)\n",
    "\n",
    "    optimizer.zero_grad()\n",
    "    output = model(X)\n",
    "    \n",
    "\n",
    "    loss = loss_index(output, y)\n",
    "    \n",
    "    \n",
    "    loss.backward()\n",
    "    optimizer.step()\n",
    "    loss_item.append(loss.item())\n",
    "    if (epoch+1) % 20 == 0:\n",
    "        print(f'Epoch {epoch+1}, Loss: {loss.item():.4f}')"
   ]
  },
  {
   "cell_type": "markdown",
   "id": "71afd25d-583c-489d-884e-a3e9179a2811",
   "metadata": {},
   "source": [
    "Creates an instance of the SelfAttentionModel with the specified sequence length (seq_len), model dimensionality (d_model), and number of attention heads (n_heads).\n",
    "Loss Function:\n",
    "\n",
    "python\n",
    "Copy code\n",
    "loss_index = nn.MSELoss()\n",
    "Initializes the Mean Squared Error (MSE) loss function, which is used to compute the difference between the model's predictions and the true values.\n",
    "Optimizer:\n",
    "\n",
    "python\n",
    "Copy code\n",
    "optimizer = optim.Adam(model.parameters(), lr=0.0001)\n",
    "Sets up the Adam optimizer with a learning rate of 0.0001. This optimizer adjusts the model’s weights to minimize the loss.\n",
    "Training Loop:\n",
    "\n",
    "X, y = create_dummy_data(batch_size, seq_len, d_model): Generates a batch of dummy data with the specified batch size, sequence length, and model dimensionality.\n",
    "\n",
    "optimizer.zero_grad(): Clears the gradients from the previous step to prevent accumulation.\n",
    "\n",
    "output = model(X): Passes the input data X through the model to get the predicted output.\n",
    "\n",
    "loss = loss_index(output, y): Computes the loss between the predicted output and the true values y.\n",
    "\n",
    "loss.backward(): Computes the gradient of the loss with respect to the model parameters.\n",
    "\n",
    "optimizer.step(): Updates the model parameters based on the computed gradients."
   ]
  },
  {
   "cell_type": "code",
   "execution_count": 56,
   "id": "35c27f5b-3b80-4c37-8bae-1a134b345cd0",
   "metadata": {},
   "outputs": [],
   "source": [
    "import matplotlib.pyplot as plt"
   ]
  },
  {
   "cell_type": "code",
   "execution_count": 90,
   "id": "22b53810-452f-44d8-b656-bbb60ded285e",
   "metadata": {},
   "outputs": [
    {
     "data": {
      "text/plain": [
       "[<matplotlib.lines.Line2D at 0x29a75057860>]"
      ]
     },
     "execution_count": 90,
     "metadata": {},
     "output_type": "execute_result"
    },
    {
     "data": {
      "image/png": "[encoded data removed]",
      "text/plain": [
       "<Figure size 640x480 with 1 Axes>"
      ]
     },
     "metadata": {},
     "output_type": "display_data"
    }
   ],
   "source": [
    "plt.plot(loss_item)"
   ]
  },
  {
   "cell_type": "code",
   "execution_count": null,
   "id": "9aac676b-d1c8-47c9-97ba-8165a54632b7",
   "metadata": {},
   "outputs": [],
   "source": []
  }
 ],
 "metadata": {
  "kernelspec": {
   "display_name": "Python 3 (ipykernel)",
   "language": "python",
   "name": "python3"
  },
  "language_info": {
   "codemirror_mode": {
    "name": "ipython",
    "version": 3
   },
   "file_extension": ".py",
   "mimetype": "text/x-python",
   "name": "python",
   "nbconvert_exporter": "python",
   "pygments_lexer": "ipython3",
   "version": "3.12.6"
  }
 },
 "nbformat": 4,
 "nbformat_minor": 5
}
